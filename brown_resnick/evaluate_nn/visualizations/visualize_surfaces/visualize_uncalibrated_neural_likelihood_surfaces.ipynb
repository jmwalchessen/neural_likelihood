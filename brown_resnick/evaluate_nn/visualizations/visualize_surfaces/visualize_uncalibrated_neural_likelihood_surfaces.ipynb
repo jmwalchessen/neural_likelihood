{
 "cells": [
  {
   "cell_type": "code",
   "execution_count": 12,
   "metadata": {},
   "outputs": [],
   "source": [
    "#This notebook is for visualizing uncalibrated neural likelihood surfaces for the evaluation data.\n",
    "import numpy as np\n",
    "import matplotlib.pyplot as plt\n",
    "from matplotlib.lines import Line2D"
   ]
  },
  {
   "cell_type": "code",
   "execution_count": 31,
   "metadata": {},
   "outputs": [],
   "source": [
    "local_folder = \"/home/juliatest/Desktop/likelihood_free_inference/neural_likelihood/brown_resnick\"\n",
    "version = \"final_version\"\n",
    "image_size = 25\n",
    "image_name = str(image_size) + \"_by_\" + str(image_size)\n",
    "uncalibrated_neural_surfaces_file = (local_folder + \"/evaluate_nn/produce_neural_likelihood_surfaces/data/\" + image_name + \"/\" \n",
    "                       + version + \"/uncalibrated/single/reps/200/uncalibrated_neural_likelihood_surfaces_10_by_10_density_\" \n",
    "                       + image_name + \"_image_200.npy\")\n",
    "uncalibrated_neural_surfaces =  np.load(uncalibrated_neural_surfaces_file)\n",
    "#first column is range and second is smooth\n",
    "parameter_matrix = np.load((local_folder + \"/evaluate_nn/generate_data/data/\" + image_name + \n",
    "                            \"/single/reps/200/evaluation_parameters_10_by_10_density_\" + image_name + \"_200.npy\"))"
   ]
  },
  {
   "cell_type": "code",
   "execution_count": 32,
   "metadata": {},
   "outputs": [],
   "source": [
    "#Save a png file of the uncalibrated neural likelihood likelihood surface.\n",
    "#function parameters:\n",
    "    #uncalibrated_neural_likelihood_surface: (numpy matrix) uncalibrated neural likelihood surface for a realization of the BR from\n",
    "    # evaluation data\n",
    "    #true_range: the range value which generated the realization for this uncalibrated neural likelihood surface\n",
    "    #true_smooth: the smooth value which generated the realization for this uncalibrated neural likelihood surface\n",
    "    #possible_ranges: range values on the parameter grid\n",
    "    #possible_smooths: smooth values on the parameter grid\n",
    "    #C: the critical value for around 90 percent coverage according to Wilk's Thrm (multiple realizations) and the range of the\n",
    "    #color scale (ranges from max of the field to max of the field minus C)\n",
    "    #rep_number: the replication number that identifies the realization which produced the given uncalibrated neural likelihood surface\n",
    "def visualize_uncalibrated_neural_likelihod_surface(uncalibrated_neural_likelihood_surface, true_range, true_smooth, \n",
    "                                                    possible_ranges, possible_smooths, C, rep_number):\n",
    "\n",
    "    fig, ax = plt.subplots(figsize = (10,10))\n",
    "    x = np.linspace(.05, 2, len(possible_ranges))\n",
    "    y = np.linspace(.05, 2, len(possible_smooths))\n",
    "    X, Y = np.meshgrid(x, y)\n",
    "    \n",
    "    Z = uncalibrated_neural_likelihood_surface\n",
    "    Z[Z == 0] = np.amin(Z[Z != 0])\n",
    "    Z = np.log(Z)\n",
    "    max_indices = np.unravel_index(np.argmax(Z, axis=None), Z.shape)\n",
    "    max_range = possible_smooths[max_indices[0]]\n",
    "    max_smooth = possible_ranges[max_indices[1]]\n",
    "\n",
    "    ax.contourf(X, Y, Z, vmin = (np.amax(Z) - C), vmax = np.amax(Z), levels = 12000)\n",
    "    ax.scatter(true_smooth, true_range, s = 600, marker = \"*\", c = \"black\")\n",
    "    ax.scatter(max_smooth, max_range, s = 600, marker = \"o\", c= \"red\")\n",
    "    legend_elements = [Line2D([0], [0], marker='*', color='w', label='True',\n",
    "                          markerfacecolor='black', markersize=40), \n",
    "                          Line2D([0], [0], marker='o', color='w', label='Estimate',\n",
    "                          markerfacecolor='red', markersize=30)]\n",
    "    ax.legend(handles = legend_elements, facecolor='white', framealpha=1, fontsize=\"25\")\n",
    "    ax.set_xlabel(\"smooth\", fontsize = 40)\n",
    "    ax.set_ylabel(\"range\", fontsize = 40)\n",
    "    plt.yticks(fontsize=20)\n",
    "    plt.xticks(fontsize =20)\n",
    "    plt.tight_layout()\n",
    "\n",
    "    fig_name = (local_folder + \"/evaluate_nn/visualizations/visualize_surfaces/surfaces/\" + image_name +\n",
    "                \"/neural_likelihood/\" + version + \"/uncalibrated/single/reps/200/\" + str(C) + \"_\" + \n",
    "                \"uncalibrated_neural_likelihood_surface_range_\" + str(true_range) + \n",
    "                \"_smooth_\" +    plt.show() str(true_smooth) + \"_rep_\" + str(rep_number) + \".png\")\n",
    "    plt.savefig(fig_name)"
   ]
  },
  {
   "cell_type": "code",
   "execution_count": null,
   "metadata": {},
   "outputs": [],
   "source": [
    "possible_ranges = [.05*i for i in range(1,41)]\n",
    "possible_smooths = [.05*i for i in range(1,41)]\n",
    "#Indices for the 4 by 4 grid over the parameter space\n",
    "indices = [11, 13, 15, 17, 31, 33, 35, 37, 51, 53, 55, 57, 71, 73, 75, 77]\n",
    "C = 10\n",
    "\n",
    "for ipred in indices:\n",
    "    for irep in range(0,1):\n",
    "        true_range = parameter_matrix[ipred,0]\n",
    "        true_smooth = parameter_matrix[ipred,1]\n",
    "        uncalibrated_neural_likelihood_surface = uncalibrated_neural_surfaces[ipred,irep,:,:]\n",
    "        visualize_uncalibrated_neural_likelihod_surface(uncalibrated_neural_likelihood_surface, true_range, true_smooth,\n",
    "                                                         possible_ranges, possible_smooths, C, irep)\n",
    "        \n"
   ]
  }
 ],
 "metadata": {
  "interpreter": {
   "hash": "7309a7f5943ff6de852895fa46d04d76c2822dd1d8a295fe06754e72ab9af4a8"
  },
  "kernelspec": {
   "display_name": "Python 3.7.6 ('base')",
   "language": "python",
   "name": "python3"
  },
  "language_info": {
   "codemirror_mode": {
    "name": "ipython",
    "version": 3
   },
   "file_extension": ".py",
   "mimetype": "text/x-python",
   "name": "python",
   "nbconvert_exporter": "python",
   "pygments_lexer": "ipython3",
   "version": "3.11.2"
  },
  "orig_nbformat": 4
 },
 "nbformat": 4,
 "nbformat_minor": 2
}
