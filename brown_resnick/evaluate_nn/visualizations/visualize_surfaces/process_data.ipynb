{
 "cells": [
  {
   "cell_type": "code",
   "execution_count": 26,
   "metadata": {},
   "outputs": [],
   "source": [
    "import numpy as np\n"
   ]
  },
  {
   "cell_type": "code",
   "execution_count": 42,
   "metadata": {},
   "outputs": [],
   "source": [
    "local_folder = \"/home/juliatest/Desktop/likelihood_free_inference/neural_likelihood/brown_resnick/evaluate_nn/produce_pairwise_likelihood_surfaces\""
   ]
  },
  {
   "cell_type": "code",
   "execution_count": 47,
   "metadata": {},
   "outputs": [],
   "source": [
    "a = np.load((local_folder + \"/data/25_by_25/dist_2/single/reps/200/pairwise_likelihood_surfaces_10_by_10_density_25_by_25_image_200.npy\"))\n",
    "pwl_fields = np.zeros((100,200,40,40))"
   ]
  },
  {
   "cell_type": "code",
   "execution_count": 48,
   "metadata": {},
   "outputs": [],
   "source": [
    "for ipred in range(0,100):\n",
    "    for irep in range(0, 200):\n",
    "            pwl_fields[ipred,irep,:,:] = -1*np.transpose(a[ipred,irep,:,:])\n"
   ]
  },
  {
   "cell_type": "code",
   "execution_count": 49,
   "metadata": {},
   "outputs": [
    {
     "data": {
      "text/plain": [
       "array([[-33618.36429379, -33554.91954404, -33535.30027083, ...,\n",
       "        -34316.81652962, -34316.81652962, -34316.81652962],\n",
       "       [-33637.75276883, -33574.97740281, -33542.56045435, ...,\n",
       "        -34316.81643472, -34316.81651092, -34316.81652653],\n",
       "       [-33650.22005769, -33590.47304792, -33553.80767289, ...,\n",
       "        -34316.55112029, -34316.67459341, -34316.74446284],\n",
       "       ...,\n",
       "       [-33748.69950108, -33761.73925788, -33775.95992199, ...,\n",
       "        -35596.92194522, -35710.63309135, -35829.65451484],\n",
       "       [-33749.90044285, -33764.24086171, -33779.86770796, ...,\n",
       "        -35790.73394891, -35917.25158268, -36049.77646081],\n",
       "       [-33751.07495074, -33766.69533431, -33783.71374929, ...,\n",
       "        -35993.34351907, -36133.4829383 , -36280.38626291]])"
      ]
     },
     "execution_count": 49,
     "metadata": {},
     "output_type": "execute_result"
    }
   ],
   "source": [
    "pwl_fields[0,0,:,:]"
   ]
  },
  {
   "cell_type": "code",
   "execution_count": 50,
   "metadata": {},
   "outputs": [],
   "source": [
    "np.save((local_folder + \"/data/25_by_25/dist_2/single/reps/200/pairwise_likelihood_surfaces_10_by_10_density_25_by_25_image_200.npy\"), pwl_fields)"
   ]
  }
 ],
 "metadata": {
  "kernelspec": {
   "display_name": "br-env-conda",
   "language": "python",
   "name": "python3"
  },
  "language_info": {
   "codemirror_mode": {
    "name": "ipython",
    "version": 3
   },
   "file_extension": ".py",
   "mimetype": "text/x-python",
   "name": "python",
   "nbconvert_exporter": "python",
   "pygments_lexer": "ipython3",
   "version": "3.11.2"
  },
  "orig_nbformat": 4
 },
 "nbformat": 4,
 "nbformat_minor": 2
}
