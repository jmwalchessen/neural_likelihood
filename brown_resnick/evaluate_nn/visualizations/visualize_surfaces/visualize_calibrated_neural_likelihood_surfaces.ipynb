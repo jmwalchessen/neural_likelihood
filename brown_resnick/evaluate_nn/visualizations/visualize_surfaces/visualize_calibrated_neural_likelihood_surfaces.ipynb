{
 "cells": [
  {
   "cell_type": "code",
   "execution_count": 8,
   "metadata": {},
   "outputs": [],
   "source": [
    "#This notebook is for visualizing calibrated neural likelihood surfaces for the evaluation data.\n",
    "import numpy as np\n",
    "import matplotlib.pyplot as plt\n",
    "from matplotlib.lines import Line2D"
   ]
  },
  {
   "cell_type": "code",
   "execution_count": 9,
   "metadata": {},
   "outputs": [],
   "source": [
    "#Load the data\n",
    "version = \"final_version\"\n",
    "image_size = 25\n",
    "image_name = str(image_size) + \"_by_\" + str(image_size)\n",
    "local_folder = \"/home/juliatest/Desktop/likelihood_free_inference/neural_likelihood/brown_resnick\"\n",
    "fields_file = (local_folder + \"/evaluate_nn/produce_neural_likelihood_surfaces/data/\" + image_name + \"/\" + version + \n",
    "\"/calibrated/single/reps/200/calibrated_neural_likelihood_surfaces_10_by_10_density_\" + image_name + \"_image_200.npy\")\n",
    "fields = np.load(fields_file)\n",
    "\n",
    "number_of_parameters = 100\n",
    "number_of_reps = 200\n",
    "true_params = [(.2*j, .2*i) for i in range(1,11) for j in range(1,11)]\n",
    "possible_ranges = [.05*i for i in range(1, 41)]\n",
    "possible_smooths = [.05*i for i in range(1, 41)]\n",
    "\n",
    "#first column is range and second is smooth\n",
    "parameter_matrix = np.load((local_folder + \"/evaluate_nn/generate_data/data/\" + image_name + \n",
    "                            \"/single/reps/200/evaluation_parameters_10_by_10_density_\" + image_name + \"_200.npy\"))"
   ]
  },
  {
   "cell_type": "code",
   "execution_count": 10,
   "metadata": {},
   "outputs": [],
   "source": [
    "#Save a png file of the calibrated neural likelihood surface.\n",
    "#function parameters:\n",
    "    #calibrated_neural_likelihood_surface: (numpy matrix) calibrated neural likelihood surface for a realization of the GP from\n",
    "    # evaluation data\n",
    "    #true_range: the range value which generated the realization for this calibrated neural likelihood surface\n",
    "    #true_smooth: the smooth value which generated the realization for this calibrated neural likelihood surface\n",
    "    #possible_ranges: range values on the parameter grid\n",
    "    #possible_smooths: smooth values on the parameter grid\n",
    "    #C: the critical value for around 90 percent coverage according to Wilk's Thrm (multiple realizations) and the range of the\n",
    "    #color scale (ranges from max of the field to max of the field minus C)\n",
    "    #rep_number: the replication number that identifies the realization which produced the given calibrated neural likelihood surface\n",
    "def visualize_calibrated_neural_likelihood_surface(calibrated_neural_likelihood_surface, possible_ranges, possible_smooths,\n",
    "                                                    true_range, true_smooth, rep_number, C):\n",
    "\n",
    "    fig, ax = plt.subplots(figsize = (10,10))\n",
    "    x = np.linspace(.05, 2, len(possible_ranges))\n",
    "    y = np.linspace(.05, 2, len(possible_smooths))\n",
    "    X, Y = np.meshgrid(x, y)\n",
    "    Z = calibrated_neural_likelihood_surface\n",
    "    Z[Z==0] = np.min(Z[Z!=0])\n",
    "    Z = np.log(Z)\n",
    "    Z = Z.reshape((40, 40))\n",
    "    max_indices = np.unravel_index(np.argmax(Z, axis=None), Z.shape)\n",
    "    max_range = possible_ranges[max_indices[0]]\n",
    "    max_smooth = possible_smooths[max_indices[1]]\n",
    "    ax.contourf(X, Y, Z, vmin = (np.amax(Z) - C), vmax = np.amax(Z), levels = 12000)\n",
    "    ax.scatter(true_smooth, true_range, s = 600, marker = \"*\", c = \"black\")\n",
    "    ax.scatter(max_smooth, max_range, s = 600, marker = \"o\", c= \"red\")\n",
    "    legend_elements = [Line2D([0], [0], marker='*', color='w', label='True',\n",
    "                          markerfacecolor='black', markersize=40), \n",
    "                          Line2D([0], [0], marker='o', color='w', label='Estimate',\n",
    "                          markerfacecolor='red', markersize=30)]\n",
    "    ax.legend(handles = legend_elements, facecolor='white', framealpha=1, fontsize=\"25\")\n",
    "    ax.set_xlabel(\"smooth\", fontsize = 40)\n",
    "    ax.set_ylabel(\"range\", fontsize = 40)\n",
    "    plt.yticks(fontsize=20)\n",
    "    plt.xticks(fontsize =20)\n",
    "    plt.tight_layout()\n",
    "    fig_name = (local_folder + \"/evaluate_nn/visualizations/visualize_surfaces/surfaces/\" + image_name + \n",
    "                \"/neural_likelihood/\" + version + \"/calibrated/single/reps/200/\"\n",
    "                 + str(C) + \"_calibrated_neural_likelihood_surface_smooth_\" + str(round(true_smooth, 2))\n",
    "     + \"_range_\" + str(round(true_range, 2)) + \"_rep_\" + str(rep_number) + \".png\")\n",
    "    #plt.savefig(fig_name)\n",
    "    plt.show()"
   ]
  },
  {
   "cell_type": "code",
   "execution_count": null,
   "metadata": {},
   "outputs": [],
   "source": [
    "possible_smooths = [.05*i for i in range(1, 41)]\n",
    "possible_ranges = [.05*i for i in range(1, 41)]\n",
    "C = 10\n",
    "indices = [11, 13, 15, 17, 31, 33, 35, 37, 51, 53, 55, 57, 71, 73, 75, 77]\n",
    "\n",
    "for ipred in indices:\n",
    "    for irep in range(0,1):\n",
    "        true_range = parameter_matrix[ipred,0]\n",
    "        true_smooth = parameter_matrix[ipred,1]\n",
    "        field = fields[ipred,irep,:,:]\n",
    "        visualize_calibrated_neural_likelihood_surface(field, possible_ranges, \n",
    "                                                       possible_smooths, true_range, true_smooth, irep, C)"
   ]
  }
 ],
 "metadata": {
  "interpreter": {
   "hash": "7309a7f5943ff6de852895fa46d04d76c2822dd1d8a295fe06754e72ab9af4a8"
  },
  "kernelspec": {
   "display_name": "Python 3.7.6 ('base')",
   "language": "python",
   "name": "python3"
  },
  "language_info": {
   "codemirror_mode": {
    "name": "ipython",
    "version": 3
   },
   "file_extension": ".py",
   "mimetype": "text/x-python",
   "name": "python",
   "nbconvert_exporter": "python",
   "pygments_lexer": "ipython3",
   "version": "3.11.2"
  },
  "orig_nbformat": 4
 },
 "nbformat": 4,
 "nbformat_minor": 2
}
