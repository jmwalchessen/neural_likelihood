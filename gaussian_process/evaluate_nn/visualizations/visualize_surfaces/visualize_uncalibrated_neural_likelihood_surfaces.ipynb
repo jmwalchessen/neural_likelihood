{
 "cells": [
  {
   "cell_type": "code",
   "execution_count": 3,
   "metadata": {},
   "outputs": [],
   "source": [
    "#This notebook is for visualizing uncalibrated neural likelihood surfaces for the evaluation data.\n",
    "import numpy as np\n",
    "import matplotlib.pyplot as plt\n",
    "from matplotlib.lines import Line2D"
   ]
  },
  {
   "cell_type": "code",
   "execution_count": 4,
   "metadata": {},
   "outputs": [],
   "source": [
    "local_folder = \"/home/juliatest/Dropbox/likelihood_free_inference/neural_likelihood/gaussian_process\"\n",
    "version = \"final_version\"\n",
    "image_size = 25\n",
    "image_name = str(image_size) + \"_by_\" + str(image_size)\n",
    "\n",
    "psi_fields =  np.load((local_folder + \"/evaluate_nn/produce_neural_likelihood_surfaces/data/\" + image_name + \"/\" \n",
    "                       + version + \"/uncalibrated/single/reps/200/uncalibrated_neural_likelihood_surfaces_9_by_9_density_\" \n",
    "                       + image_name + \"_image_200.npy\"))\n",
    "#first column is variance and second is lengthscale\n",
    "parameter_matrix = np.load((local_folder + \"/evaluate_nn/generate_data/data/\" + image_name + \n",
    "                            \"/single/reps/200/evaluation_parameters_9_by_9_density_\" + image_name + \"_200.npy\"))\n",
    "parameter_matrix = parameter_matrix[:,0,:]"
   ]
  },
  {
   "cell_type": "code",
   "execution_count": 5,
   "metadata": {},
   "outputs": [],
   "source": [
    "#Save a png file of the uncalibrated neural surface.\n",
    "#function parameters:\n",
    "    #uncalibrated_neural_likelihood_surface: (numpy matrix) uncalibrated neural likelihood surface for a realization of the GP from\n",
    "    # evaluation data\n",
    "    #true_length_scale: the length scale value which generated the realization for this uncalibrated neural likelihood surface\n",
    "    #true_variance: the variance value which generated the realization for this uncalibrated neural likelihood surface\n",
    "    #possible_length_scales: length scales values on the parameter grid\n",
    "    #possible_variances: variance values on the parameter grid\n",
    "    #C: (ranges from max of the field to max of the field minus C)\n",
    "    #rep_number: the replication number that identifies the realization which produced the given uncalibrated neural likelihood surface\n",
    "def visualize_uncalibrated_neural_likelihod_surface(uncalibrated_neural_likelihood_surface, true_length_scale, true_variance, \n",
    "                                                    possible_length_scales, possible_variances, C, rep_number):\n",
    "\n",
    "    fig, ax = plt.subplots(figsize = (10,10))\n",
    "    x = np.linspace(.05, 2, len(possible_length_scales))\n",
    "    y = np.linspace(.05, 2, len(possible_variances))\n",
    "    X, Y = np.meshgrid(x, y)\n",
    "    \n",
    "    psi_field = uncalibrated_neural_likelihood_surface\n",
    "    psi_field[psi_field == 0] = np.amin(psi_field[psi_field != 0])\n",
    "    Z = np.log(psi_field)\n",
    "    max_indices = np.unravel_index(np.argmax(Z, axis=None), Z.shape)\n",
    "    max_length_scale = possible_variances[max_indices[1]]\n",
    "    max_variance = possible_length_scales[max_indices[0]]\n",
    "\n",
    "    ax.contourf(X, Y, Z, vmin = (np.amax(Z) - C), vmax = np.amax(Z), levels = 12000)\n",
    "    ax.scatter(true_length_scale, true_variance, s = 600, marker = \"*\", c = \"black\")\n",
    "    ax.scatter(max_length_scale, max_variance, s = 600, marker = \"o\", c= \"red\")\n",
    "    legend_elements = [Line2D([0], [0], marker='*', color='w', label='True',\n",
    "                          markerfacecolor='black', markersize=40), \n",
    "                          Line2D([0], [0], marker='o', color='w', label='Estimate',\n",
    "                          markerfacecolor='red', markersize=30)]\n",
    "    ax.legend(handles = legend_elements, facecolor='white', framealpha=1, fontsize=\"25\")\n",
    "    ax.set_xlabel(\"length scale\", fontsize = 40)\n",
    "    ax.set_ylabel(\"variance\", fontsize = 40)\n",
    "    plt.yticks(fontsize=20)\n",
    "    plt.xticks(fontsize =20)\n",
    "    plt.tight_layout()\n",
    "\n",
    "    fig_name = (local_folder + \"/evaluate_nn/visualizations/visualize_surfaces/surfaces/\" + image_name +\n",
    "                \"/neural_likelihood/\" + version + \"/uncalibrated/single/reps/200/\" + str(C) + \"_\" + \n",
    "                \"uncalibrated_neural_likelihood_surface_length_scale_\" + str(true_length_scale) + \n",
    "                \"_variance_\" + str(true_variance) + \"_rep_\" + str(rep_number) + \".png\")\n",
    "    plt.savefig(fig_name)"
   ]
  },
  {
   "cell_type": "code",
   "execution_count": null,
   "metadata": {},
   "outputs": [],
   "source": [
    "true_params = np.array([(.2*j, .2*i) for i in range(1, 11) for j in range(1, 11)])\n",
    "possible_length_scales = [.05*i for i in range(1,41)]\n",
    "possible_variances = [.05*i for i in range(1,41)]\n",
    "indices = [10,12,14,16,28,30,32,34,46,48,50,52,64,66,68,70]\n",
    "C = 10\n",
    "\n",
    "for ipred in [30]:\n",
    "    for irep in range(12,13):\n",
    "        true_length_scale = parameter_matrix[ipred,1]\n",
    "        true_variance = parameter_matrix[ipred,0]\n",
    "        uncalibrated_neural_likelihood_surface = psi_fields[ipred,irep,:,:]\n",
    "        visualize_uncalibrated_neural_likelihod_surface(uncalibrated_neural_likelihood_surface, true_length_scale, true_variance,\n",
    "                                                         possible_length_scales, possible_variances, C, irep)\n",
    "        \n"
   ]
  }
 ],
 "metadata": {
  "interpreter": {
   "hash": "7309a7f5943ff6de852895fa46d04d76c2822dd1d8a295fe06754e72ab9af4a8"
  },
  "kernelspec": {
   "display_name": "Python 3.7.6 ('base')",
   "language": "python",
   "name": "python3"
  },
  "language_info": {
   "codemirror_mode": {
    "name": "ipython",
    "version": 3
   },
   "file_extension": ".py",
   "mimetype": "text/x-python",
   "name": "python",
   "nbconvert_exporter": "python",
   "pygments_lexer": "ipython3",
   "version": "3.11.2"
  },
  "orig_nbformat": 4
 },
 "nbformat": 4,
 "nbformat_minor": 2
}
