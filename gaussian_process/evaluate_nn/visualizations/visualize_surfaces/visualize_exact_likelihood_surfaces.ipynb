{
 "cells": [
  {
   "cell_type": "code",
   "execution_count": 6,
   "metadata": {},
   "outputs": [],
   "source": [
    "#This notebook is for visualizing exact log likelihood surfaces for the evaluation data.\n",
    "import numpy as np\n",
    "import matplotlib.pyplot as plt\n",
    "from matplotlib.lines import Line2D"
   ]
  },
  {
   "cell_type": "code",
   "execution_count": 7,
   "metadata": {},
   "outputs": [],
   "source": [
    "#Load exact likelihood surfaces from generate_data folder\n",
    "local_folder = \"/home/juliatest/Desktop/likelihood_free_inference/neural_likelihood/gaussian_process\"\n",
    "image_size = 25\n",
    "image_name = str(image_size) + \"_by_\" + str(image_size)\n",
    "reps = \"200\"\n",
    "ll_fields = np.load((local_folder + \"/evaluate_nn/generate_data/data/\" + image_name + \"/single/reps/\" + reps +\n",
    "                      \"/evaluation_ll_fields_10_by_10_density_\" + image_name + \"_\" + reps + \".npy\"))\n",
    "#first column is variance and second is lengthscale\n",
    "parameter_matrix = np.load((local_folder + \"/evaluate_nn/generate_data/data/\" + image_name + \"/single/reps/\" + reps +\n",
    "                            \"/evaluation_parameters_10_by_10_density_\" + image_name + \"_\" + reps + \".npy\"))\n",
    "parameter_matrix = parameter_matrix[:,0,:]"
   ]
  },
  {
   "cell_type": "code",
   "execution_count": 8,
   "metadata": {},
   "outputs": [],
   "source": [
    "#Save a png file of the exact log likelihood surface.\n",
    "#function parameters:\n",
    "    #exact_log_likelihood_surface: (numpy matrix) exact log likelihood surface for a realization of the GP from evaluation data\n",
    "    #true_length_scale: the length scale value which generated the realization for this exact log likelihood surface\n",
    "    #true_variance: the variance value which generated the realization for this exact log likelihood surface\n",
    "    #possible_length_scales: length scales values on the parameter grid\n",
    "    #possible_variances: variance values on the parameter grid\n",
    "    #C: the critical value for around 90 percent coverage according to Wilk's Thrm (multiple realizations) and the range of the\n",
    "    #color scale (ranges from max of the field to max of the field minus C)\n",
    "    #rep_number: the replication number that identifies the realization which produced the given exact log likelihood surface\n",
    "def visualize_exact_log_likelihood_surfaces(exact_log_likelihood_surface, true_length_scale, true_variance, possible_length_scales,\n",
    "                                          possible_variances, C, rep_number):\n",
    "\n",
    "    fig, ax = plt.subplots(figsize = (10,10))\n",
    "    x = np.linspace(.05, 2, len(possible_length_scales))\n",
    "    y = np.linspace(.05, 2, len(possible_variances))\n",
    "    X, Y = np.meshgrid(x, y)\n",
    "\n",
    "    Z = exact_log_likelihood_surface\n",
    "    max_indices = np.unravel_index(np.argmax(Z, axis=None), Z.shape)\n",
    "    max_length_scale = possible_length_scales[max_indices[1]]\n",
    "    max_variance = possible_variances[max_indices[0]]\n",
    "\n",
    "    cp = ax.contourf(X, Y, Z, vmin = (np.amax(Z) - C), vmax = np.amax(Z), levels = 60000)\n",
    "    ax.scatter(true_length_scale, true_variance, s = 600, marker = \"*\", c = \"black\")\n",
    "    ax.scatter(max_length_scale, max_variance, s = 600, marker = \"o\", c= \"red\")\n",
    "    legend_elements = [Line2D([0], [0], marker='*', color='w', label='True',\n",
    "                          markerfacecolor='black', markersize=40), \n",
    "                          Line2D([0], [0], marker='o', color='w', label='Estimate',\n",
    "                          markerfacecolor='red', markersize=30)]\n",
    "    ax.legend(handles = legend_elements, facecolor='white', framealpha=1, fontsize=\"25\")\n",
    "    ax.set_xlabel(\"length scale\", fontsize = 40)\n",
    "    ax.set_ylabel(\"variance\", fontsize = 40)\n",
    "    plt.yticks(fontsize=20)\n",
    "    plt.xticks(fontsize =20)\n",
    "    \n",
    "    plt.tight_layout()\n",
    "\n",
    "    fig_name = (\"visualizations/\" + image_name + \"/exact_likelihood/single/reps/\" + reps + \"/\" + str(C) + \n",
    "                \"_exact_likelihood_surface_length_scale_\" + str(true_length_scale) + \"_variance_\" + str(true_variance) + \n",
    "                \"__rep_\" + str(rep_number) + \".png\")\n",
    "    plt.savefig(fig_name)"
   ]
  },
  {
   "cell_type": "code",
   "execution_count": 9,
   "metadata": {},
   "outputs": [
    {
     "name": "stderr",
     "output_type": "stream",
     "text": [
      "Locator attempting to generate 52664 ticks ([-8629.500000000002, ..., -730.0500000000011]), which exceeds Locator.MAXTICKS (1000).\n"
     ]
    }
   ],
   "source": [
    "\n",
    "C = 10\n",
    "possible_length_scales = [.05*i for i in range(1,41)]\n",
    "possible_variances = [.05*i for i in range(1,41)]\n",
    "true_params = np.array([(.2*j, .2*i) for i in range(1, 11) for j in range(1, 11)]) \n",
    "indices = [11, 13, 15, 17, 31, 33, 35, 37, 51, 53, 55, 57, 71, 73, 75, 77]\n",
    "irep = 0\n",
    "for ipred in [33]:\n",
    "    for irep in range(12,13):\n",
    "        true_length_scale = parameter_matrix[ipred,1]\n",
    "        true_variance = parameter_matrix[ipred,0]\n",
    "        exact_log_likelihood_surface = ll_fields[ipred,irep,:,:]\n",
    "        visualize_exact_log_likelihood_surfaces(exact_log_likelihood_surface, true_length_scale, true_variance, \n",
    "                                                possible_length_scales, possible_variances, C, irep)"
   ]
  }
 ],
 "metadata": {
  "interpreter": {
   "hash": "7309a7f5943ff6de852895fa46d04d76c2822dd1d8a295fe06754e72ab9af4a8"
  },
  "kernelspec": {
   "display_name": "Python 3.7.6 ('base')",
   "language": "python",
   "name": "python3"
  },
  "language_info": {
   "codemirror_mode": {
    "name": "ipython",
    "version": 3
   },
   "file_extension": ".py",
   "mimetype": "text/x-python",
   "name": "python",
   "nbconvert_exporter": "python",
   "pygments_lexer": "ipython3",
   "version": "3.11.2"
  },
  "orig_nbformat": 4
 },
 "nbformat": 4,
 "nbformat_minor": 2
}
