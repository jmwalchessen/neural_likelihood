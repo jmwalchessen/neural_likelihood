{
 "cells": [
  {
   "cell_type": "code",
   "execution_count": 9,
   "metadata": {},
   "outputs": [],
   "source": [
    "#This script produces visualizations of the calibrated neural likelihood surfaces with 95% approximate confidence regions for\n",
    "#multiple realization case.\n",
    "import numpy as np\n",
    "import matplotlib.pyplot as plt\n",
    "from matplotlib.lines import Line2D\n",
    "from matplotlib.patches import Polygon as patch_polygon"
   ]
  },
  {
   "cell_type": "code",
   "execution_count": null,
   "metadata": {},
   "outputs": [],
   "source": [
    "#Load calibrated neural likelihood surfaces\n",
    "image_size = 25\n",
    "image_name = str(image_size) + \"_by_\" + str(image_size)\n",
    "local_folder = \"/home/juliatest/Dropbox/likelihood_free_inference/neural_likelihood/gaussian_process\"\n",
    "version = \"final_version\"\n",
    "calibrated_neural_likelihood_surfaces_file =(local_folder + \"/evaluate_nn/produce_neural_likelihood_surfaces/data/\" + image_name\n",
    "                                        + \"/\" + version + \"/calibrated/single/reps/200/\"\n",
    "                                        \"/calibrated_neural_likelihood_surfaces_9_by_9_density_25_by_25_image_200.npy\")\n",
    "calibrated_neural_likelihood_surfaces = np.load(multi_calibrated_neural_likelihood_surfaces_file)\n",
    "\n",
    "number_of_parameters = 81\n",
    "number_of_reps = 200\n",
    "#first column is variance and second is lengthscale\n",
    "parameter_matrix = np.load((local_folder + \"/evaluate_nn/generate_data/data/\" + image_name + \n",
    "                            \"/single/reps/200/evaluation_parameters_9_by_9_density_\" + image_name + \"_200.npy\"))\n",
    "parameter_matrix = parameter_matrix[:,0,:]\n",
    "possible_lengthscales = [round(.05*i,2) for i in range(1, 41)]\n",
    "possible_variances = [round(.05*i,2) for i in range(1, 41)]\n",
    "#Cut off value that corresponds to 95 percent coverage for chi-distribution with 2 degrees of freedom (dimension of parameter space)\n",
    "C = 5.99"
   ]
  }
 ],
 "metadata": {
  "kernelspec": {
   "display_name": "gp-env-conda",
   "language": "python",
   "name": "python3"
  },
  "language_info": {
   "name": "python",
   "version": "3.11.2"
  },
  "orig_nbformat": 4
 },
 "nbformat": 4,
 "nbformat_minor": 2
}
