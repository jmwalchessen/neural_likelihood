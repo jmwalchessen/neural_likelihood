{
 "cells": [
  {
   "cell_type": "code",
   "execution_count": 1,
   "metadata": {},
   "outputs": [],
   "source": [
    "#This is a script to produce parameter estimate figures that do not appear in paper: Neural Likelihood Surfaces.\n",
    "import numpy as np\n",
    "import matplotlib.pyplot as plt\n",
    "from matplotlib.lines import Line2D"
   ]
  },
  {
   "cell_type": "code",
   "execution_count": 36,
   "metadata": {},
   "outputs": [],
   "source": [
    "#Load exact and neural likelihood estimators for the evaluation data for single realizations\n",
    "local_folder = \"/home/juliatest/Dropbox/likelihood_free_inference/neural_likelihood/gaussian_process\"\n",
    "image_size = 25\n",
    "image_name = str(image_size) + \"_by_\" + str(image_size)\n",
    "version = \"final_version\"\n",
    "neural_likelihood_estimators_file = (local_folder + \"/evaluate_nn/produce_neural_likelihood_estimates/data/25_by_25/\" +\n",
    "                                     version + \"/single/reps/200/neural_likelihood_estimators_9_by_9_density_\" +\n",
    "                                     image_name + \"_image_200.npy\")\n",
    "neural_likelihood_estimators = np.load(neural_likelihood_estimators_file)\n",
    "\n",
    "exact_likelihood_estimators_file = (local_folder + \"/evaluate_nn/produce_exact_likelihood_estimates/data/\" \n",
    "                                    + image_name +\n",
    "                                    \"/single/reps/200/evaluation_ll_estimators_9_by_9_\"\n",
    "                                    + image_name + \"_image_200.npy\")\n",
    "exact_likelihood_estimators = np.load(exact_likelihood_estimators_file)\n",
    "\n",
    "parameter_matrix = (np.load((local_folder + \"/evaluate_nn/generate_data/data/\" + image_name + \n",
    "                            \"/single/reps/200/evaluation_parameters_9_by_9_density_\" + image_name + \"_200.npy\")))[:,:,[1,0]]\n",
    "number_of_reps = 200"
   ]
  },
  {
   "cell_type": "code",
   "execution_count": 38,
   "metadata": {},
   "outputs": [],
   "source": [
    "def compute_root_mean_squared_error_for_all_parameter_estimates(parameter_estimates, true_parameters):\n",
    "\n",
    "    parameter_estimates = parameter_estimates.reshape((parameter_estimates.shape[0]*parameter_estimates.shape[1], 2))\n",
    "    true_parameters = true_parameters.reshape((true_parameters.shape[0]*true_parameters.shape[1], 2))\n",
    "    parameter_rmse = np.round(np.sqrt(np.mean(np.square(parameter_estimates-true_parameters))), 2)\n",
    "    return parameter_rmse\n",
    "\n",
    "def compute_mean_absolute_error_for_all_parameter_estimates(parameter_estimates, true_parameters):\n",
    "\n",
    "    parameter_estimates = parameter_estimates.reshape((parameter_estimates.shape[0]*parameter_estimates.shape[1], 2))\n",
    "    true_parameters = true_parameters.reshape((true_parameters.shape[0]*true_parameters.shape[1], 2))\n",
    "    parameter_mae = np.round(np.mean(np.sum(np.abs((parameter_estimates - true_parameters)), axis = 1)), 2)\n",
    "    return parameter_mae\n",
    "\n",
    "def compute_median_of_median_absolute_error_for_all_parameter_estimates(parameter_estimates, true_parameters):\n",
    "\n",
    "    number_of_parameters = parameter_estimates.shape[0]\n",
    "    medians = np.zeros((number_of_parameters))\n",
    "    for ipred in range(0, number_of_parameters):\n",
    " \n",
    "            medians[ipred] = np.median(np.sum(np.abs(parameter_estimates[ipred,:,:] - true_parameters[ipred,:,:]), axis = 1))\n",
    "    \n",
    "    return np.round(np.median(medians), 2)"
   ]
  },
  {
   "cell_type": "code",
   "execution_count": 41,
   "metadata": {},
   "outputs": [],
   "source": [
    "neural_rmse = compute_root_mean_squared_error_for_all_parameter_estimates(neural_likelihood_estimators, parameter_matrix)\n",
    "exact_rmse = compute_root_mean_squared_error_for_all_parameter_estimates(exact_likelihood_estimators, parameter_matrix)\n",
    "\n",
    "neural_mae = compute_mean_absolute_error_for_all_parameter_estimates(neural_likelihood_estimators, parameter_matrix)\n",
    "exact_mae = compute_mean_absolute_error_for_all_parameter_estimates(exact_likelihood_estimators, parameter_matrix)\n",
    "\n",
    "neural_mmae = compute_median_of_median_absolute_error_for_all_parameter_estimates(neural_likelihood_estimators,\n",
    "                                                                                  parameter_matrix)\n",
    "exact_mmae = compute_median_of_median_absolute_error_for_all_parameter_estimates(exact_likelihood_estimators,\n",
    "                                                                                     parameter_matrix)"
   ]
  }
 ],
 "metadata": {
  "kernelspec": {
   "display_name": "gp-env-conda",
   "language": "python",
   "name": "python3"
  },
  "language_info": {
   "codemirror_mode": {
    "name": "ipython",
    "version": 3
   },
   "file_extension": ".py",
   "mimetype": "text/x-python",
   "name": "python",
   "nbconvert_exporter": "python",
   "pygments_lexer": "ipython3",
   "version": "3.11.2"
  }
 },
 "nbformat": 4,
 "nbformat_minor": 2
}
